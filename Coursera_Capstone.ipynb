{
    "cells": [
        {
            "cell_type": "markdown",
            "metadata": {
                "collapsed": true
            },
            "source": "## Capstone Proyect Notebook\n### Final Project IBM Data Science"
        },
        {
            "cell_type": "code",
            "execution_count": 3,
            "metadata": {},
            "outputs": [],
            "source": "import pandas as pd\nimport numpy as np"
        },
        {
            "cell_type": "code",
            "execution_count": 2,
            "metadata": {},
            "outputs": [
                {
                    "name": "stdout",
                    "output_type": "stream",
                    "text": "Hello Capstone Project Course!\n"
                }
            ],
            "source": "print('Hello Capstone Project Course!')"
        },
        {
            "cell_type": "markdown",
            "metadata": {},
            "source": "### Introduction/Business Problem"
        },
        {
            "cell_type": "markdown",
            "metadata": {},
            "source": "#### In this proyect will build a model to predict the severity of an acciden.The problem that this model seeks to solve is the ignorance that drivers have about the probabilities of an accident on a certain route and its severity, due to different variables such as the weather and road conditions, among others, that makes it impossible for drivers to make decisions in advance, such as driving more carefully or changing routes."
        },
        {
            "cell_type": "markdown",
            "metadata": {},
            "source": "### Data understanding"
        },
        {
            "cell_type": "markdown",
            "metadata": {},
            "source": "#### It was decided not to use the data set called Data-Collisions.csv, which shows data provided for this project from the Seattle Department of Transportation for the period between 1st January 2004 and 20th May 2020. This data set conteint a total of 194,673 collision incidents with 37 attributes . It was decided not to use for two reasons, firstly there have a lot of missing columns (seriousinjuries, fatalities and injuries), the missing columns are very important in determining the severity. And the second razon, is severycode column only have two values out of a total of five possible values according to metadata.\n\n####  Kaggle have a better version of this data set provided also by the Seattle Department of Transportation. There have a total of 221,144 collision incidents with 40 attributes. In this case, data ser includes the important columns seriousinjuries, fatalities, and injuries and the severitycode column has all 5 possible values.\n\n#### Of the 40 possible columns, for the generation of the model in the first place target is the SEVERITYCODE field and the following columns are preliminarily chosen as feactures: seriousinjuries, fatalities, injuries, wheather, collisiontype, vehcount, roadcond, intkey, roadcond, speeding, pedcount , addrtype, lightcond, personcount, junctiontype, underinfl, inattentinind.\n"
        }
    ],
    "metadata": {
        "kernelspec": {
            "display_name": "Python 3.6",
            "language": "python",
            "name": "python3"
        },
        "language_info": {
            "codemirror_mode": {
                "name": "ipython",
                "version": 3
            },
            "file_extension": ".py",
            "mimetype": "text/x-python",
            "name": "python",
            "nbconvert_exporter": "python",
            "pygments_lexer": "ipython3",
            "version": "3.6.9"
        }
    },
    "nbformat": 4,
    "nbformat_minor": 1
}