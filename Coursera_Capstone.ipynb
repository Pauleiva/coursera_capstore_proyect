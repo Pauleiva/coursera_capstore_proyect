{
    "cells": [
        {
            "cell_type": "markdown",
            "metadata": {
                "collapsed": true
            },
            "source": "## Capstone Proyect Notebook\n### Final Project IBM Data Science"
        },
        {
            "cell_type": "code",
            "execution_count": 48,
            "metadata": {},
            "outputs": [],
            "source": "import pandas as pd\nimport numpy as np"
        },
        {
            "cell_type": "code",
            "execution_count": 28,
            "metadata": {},
            "outputs": [
                {
                    "name": "stdout",
                    "output_type": "stream",
                    "text": "Hello Capstone Project Course!\n"
                }
            ],
            "source": "print('Hello Capstone Project Course!')"
        },
        {
            "cell_type": "markdown",
            "metadata": {},
            "source": "### Introduction/Business Problem"
        },
        {
            "cell_type": "markdown",
            "metadata": {},
            "source": "* Background\n\nMore than 3,000 people die every day in the world, as a result of traffic accidents.These are the leading cause of death in young people. The World Health Organization (WHO) qualifies the situation of traffic accidents as a priority public health problem throughout the world.Citizens in general are not aware of the magnitude of the problem of traffic accidents in the world, nor is it possible to quantify the number of people who, as a result of a traffic accident, are disabled for life and yet appear in the figures only as injured.In addition to the loss of human life, traffic accidents produce a huge economic impact, which, directly or indirectly, all citizens bear. It is estimated that on average the costs of traffic accidents reach 3% of the GDP of a country according to WHO figures, if this money were invested in education, housing, health, social assistance, imagine the benefit it would represent for our society.hese are the leading cause of death in young people.\n\n* Problem\n\nIn this proyect will build a model to predict the severity of an acciden.The problem that this model seeks to solve is the ignorance that drivers have about the probabilities of an accident on a certain route and its severity, due to different variables such as the weather and road conditions, among others, that makes it impossible for drivers to make decisions in advance, such as driving more carefully or changing routes.\n* Interest\n\nNot only drivers are interested in knowing the probabilities of a traffic accident to choose a better route, be careful when driving or postpone their trip. But it is also considered a global health problem, so it is in the interest of those responsible for transport in each country, to better understand the contributing factors and the relationships between them in order to introduce specific awareness campaigns and programs to reduce costs. road safety incidents, seeking as a major goal to reduce in this way the people affected by their health and the GDP expenditure of each country in traffic accidents."
        },
        {
            "cell_type": "markdown",
            "metadata": {},
            "source": "### Data understanding"
        },
        {
            "cell_type": "markdown",
            "metadata": {},
            "source": "* Data Source\n\nIt was decided  to use the data set called Data-Collisions.csv, which shows data provided for this project from the Seattle Department of Transportation for the period between 1st January 2004 and 20th May 2020. This data set conteint a total of 194,673 collision incidents with 37 attributes .\n\n* Feature Selection\n\nBetween the 37 possible columns, for the generation of the model are selected, in the first place target, the SEVERITYCODE fiel. Secondly, the following columns are preliminarily chosen as feactures (the other columns are removed of the data set):  wheather, location, collisiontype, vehcount, roadcond, intkey, roadcond, speeding , addrtype, lightcond, personcount, junctiontype, sdot_colcode,status.\n\n* Generate data set\n\nThe data set was generated in the notebook and you can see in the code below."
        },
        {
            "cell_type": "code",
            "execution_count": 49,
            "metadata": {},
            "outputs": [
                {
                    "name": "stderr",
                    "output_type": "stream",
                    "text": "/opt/conda/envs/Python36/lib/python3.6/site-packages/IPython/core/interactiveshell.py:3020: DtypeWarning: Columns (33) have mixed types. Specify dtype option on import or set low_memory=False.\n  interactivity=interactivity, compiler=compiler, result=result)\n"
                },
                {
                    "data": {
                        "text/html": "<div>\n<style scoped>\n    .dataframe tbody tr th:only-of-type {\n        vertical-align: middle;\n    }\n\n    .dataframe tbody tr th {\n        vertical-align: top;\n    }\n\n    .dataframe thead th {\n        text-align: right;\n    }\n</style>\n<table border=\"1\" class=\"dataframe\">\n  <thead>\n    <tr style=\"text-align: right;\">\n      <th></th>\n      <th>SEVERITYCODE</th>\n      <th>X</th>\n      <th>Y</th>\n      <th>OBJECTID</th>\n      <th>INCKEY</th>\n      <th>COLDETKEY</th>\n      <th>REPORTNO</th>\n      <th>STATUS</th>\n      <th>ADDRTYPE</th>\n      <th>INTKEY</th>\n      <th>...</th>\n      <th>ROADCOND</th>\n      <th>LIGHTCOND</th>\n      <th>PEDROWNOTGRNT</th>\n      <th>SDOTCOLNUM</th>\n      <th>SPEEDING</th>\n      <th>ST_COLCODE</th>\n      <th>ST_COLDESC</th>\n      <th>SEGLANEKEY</th>\n      <th>CROSSWALKKEY</th>\n      <th>HITPARKEDCAR</th>\n    </tr>\n  </thead>\n  <tbody>\n    <tr>\n      <th>0</th>\n      <td>2</td>\n      <td>-122.323148</td>\n      <td>47.703140</td>\n      <td>1</td>\n      <td>1307</td>\n      <td>1307</td>\n      <td>3502005</td>\n      <td>Matched</td>\n      <td>Intersection</td>\n      <td>37475.0</td>\n      <td>...</td>\n      <td>Wet</td>\n      <td>Daylight</td>\n      <td>NaN</td>\n      <td>NaN</td>\n      <td>NaN</td>\n      <td>10</td>\n      <td>Entering at angle</td>\n      <td>0</td>\n      <td>0</td>\n      <td>N</td>\n    </tr>\n    <tr>\n      <th>1</th>\n      <td>1</td>\n      <td>-122.347294</td>\n      <td>47.647172</td>\n      <td>2</td>\n      <td>52200</td>\n      <td>52200</td>\n      <td>2607959</td>\n      <td>Matched</td>\n      <td>Block</td>\n      <td>NaN</td>\n      <td>...</td>\n      <td>Wet</td>\n      <td>Dark - Street Lights On</td>\n      <td>NaN</td>\n      <td>6354039.0</td>\n      <td>NaN</td>\n      <td>11</td>\n      <td>From same direction - both going straight - bo...</td>\n      <td>0</td>\n      <td>0</td>\n      <td>N</td>\n    </tr>\n    <tr>\n      <th>2</th>\n      <td>1</td>\n      <td>-122.334540</td>\n      <td>47.607871</td>\n      <td>3</td>\n      <td>26700</td>\n      <td>26700</td>\n      <td>1482393</td>\n      <td>Matched</td>\n      <td>Block</td>\n      <td>NaN</td>\n      <td>...</td>\n      <td>Dry</td>\n      <td>Daylight</td>\n      <td>NaN</td>\n      <td>4323031.0</td>\n      <td>NaN</td>\n      <td>32</td>\n      <td>One parked--one moving</td>\n      <td>0</td>\n      <td>0</td>\n      <td>N</td>\n    </tr>\n    <tr>\n      <th>3</th>\n      <td>1</td>\n      <td>-122.334803</td>\n      <td>47.604803</td>\n      <td>4</td>\n      <td>1144</td>\n      <td>1144</td>\n      <td>3503937</td>\n      <td>Matched</td>\n      <td>Block</td>\n      <td>NaN</td>\n      <td>...</td>\n      <td>Dry</td>\n      <td>Daylight</td>\n      <td>NaN</td>\n      <td>NaN</td>\n      <td>NaN</td>\n      <td>23</td>\n      <td>From same direction - all others</td>\n      <td>0</td>\n      <td>0</td>\n      <td>N</td>\n    </tr>\n    <tr>\n      <th>4</th>\n      <td>2</td>\n      <td>-122.306426</td>\n      <td>47.545739</td>\n      <td>5</td>\n      <td>17700</td>\n      <td>17700</td>\n      <td>1807429</td>\n      <td>Matched</td>\n      <td>Intersection</td>\n      <td>34387.0</td>\n      <td>...</td>\n      <td>Wet</td>\n      <td>Daylight</td>\n      <td>NaN</td>\n      <td>4028032.0</td>\n      <td>NaN</td>\n      <td>10</td>\n      <td>Entering at angle</td>\n      <td>0</td>\n      <td>0</td>\n      <td>N</td>\n    </tr>\n  </tbody>\n</table>\n<p>5 rows \u00d7 38 columns</p>\n</div>",
                        "text/plain": "   SEVERITYCODE           X          Y  OBJECTID  INCKEY  COLDETKEY REPORTNO  \\\n0             2 -122.323148  47.703140         1    1307       1307  3502005   \n1             1 -122.347294  47.647172         2   52200      52200  2607959   \n2             1 -122.334540  47.607871         3   26700      26700  1482393   \n3             1 -122.334803  47.604803         4    1144       1144  3503937   \n4             2 -122.306426  47.545739         5   17700      17700  1807429   \n\n    STATUS      ADDRTYPE   INTKEY  ... ROADCOND                LIGHTCOND  \\\n0  Matched  Intersection  37475.0  ...      Wet                 Daylight   \n1  Matched         Block      NaN  ...      Wet  Dark - Street Lights On   \n2  Matched         Block      NaN  ...      Dry                 Daylight   \n3  Matched         Block      NaN  ...      Dry                 Daylight   \n4  Matched  Intersection  34387.0  ...      Wet                 Daylight   \n\n  PEDROWNOTGRNT  SDOTCOLNUM SPEEDING ST_COLCODE  \\\n0           NaN         NaN      NaN         10   \n1           NaN   6354039.0      NaN         11   \n2           NaN   4323031.0      NaN         32   \n3           NaN         NaN      NaN         23   \n4           NaN   4028032.0      NaN         10   \n\n                                          ST_COLDESC  SEGLANEKEY  \\\n0                                  Entering at angle           0   \n1  From same direction - both going straight - bo...           0   \n2                             One parked--one moving           0   \n3                   From same direction - all others           0   \n4                                  Entering at angle           0   \n\n   CROSSWALKKEY  HITPARKEDCAR  \n0             0             N  \n1             0             N  \n2             0             N  \n3             0             N  \n4             0             N  \n\n[5 rows x 38 columns]"
                    },
                    "execution_count": 49,
                    "metadata": {},
                    "output_type": "execute_result"
                }
            ],
            "source": "# The code was removed by Watson Studio for sharing."
        },
        {
            "cell_type": "code",
            "execution_count": 59,
            "metadata": {},
            "outputs": [
                {
                    "data": {
                        "text/html": "<div>\n<style scoped>\n    .dataframe tbody tr th:only-of-type {\n        vertical-align: middle;\n    }\n\n    .dataframe tbody tr th {\n        vertical-align: top;\n    }\n\n    .dataframe thead th {\n        text-align: right;\n    }\n</style>\n<table border=\"1\" class=\"dataframe\">\n  <thead>\n    <tr style=\"text-align: right;\">\n      <th></th>\n      <th>SEVERITYCODE</th>\n      <th>WEATHER</th>\n      <th>LOCATION</th>\n      <th>COLLISIONTYPE</th>\n      <th>VEHCOUNT</th>\n      <th>INTKEY</th>\n      <th>ROADCOND</th>\n      <th>SPEEDING</th>\n      <th>ADDRTYPE</th>\n      <th>LIGHTCOND</th>\n      <th>PERSONCOUNT</th>\n      <th>JUNCTIONTYPE</th>\n      <th>ST_COLCODE</th>\n      <th>STATUS</th>\n    </tr>\n  </thead>\n  <tbody>\n    <tr>\n      <th>0</th>\n      <td>2</td>\n      <td>Overcast</td>\n      <td>5TH AVE NE AND NE 103RD ST</td>\n      <td>Angles</td>\n      <td>2</td>\n      <td>37475.0</td>\n      <td>Wet</td>\n      <td>NaN</td>\n      <td>Intersection</td>\n      <td>Daylight</td>\n      <td>2</td>\n      <td>At Intersection (intersection related)</td>\n      <td>10</td>\n      <td>Matched</td>\n    </tr>\n    <tr>\n      <th>1</th>\n      <td>1</td>\n      <td>Raining</td>\n      <td>AURORA BR BETWEEN RAYE ST AND BRIDGE WAY N</td>\n      <td>Sideswipe</td>\n      <td>2</td>\n      <td>NaN</td>\n      <td>Wet</td>\n      <td>NaN</td>\n      <td>Block</td>\n      <td>Dark - Street Lights On</td>\n      <td>2</td>\n      <td>Mid-Block (not related to intersection)</td>\n      <td>11</td>\n      <td>Matched</td>\n    </tr>\n    <tr>\n      <th>2</th>\n      <td>1</td>\n      <td>Overcast</td>\n      <td>4TH AVE BETWEEN SENECA ST AND UNIVERSITY ST</td>\n      <td>Parked Car</td>\n      <td>3</td>\n      <td>NaN</td>\n      <td>Dry</td>\n      <td>NaN</td>\n      <td>Block</td>\n      <td>Daylight</td>\n      <td>4</td>\n      <td>Mid-Block (not related to intersection)</td>\n      <td>32</td>\n      <td>Matched</td>\n    </tr>\n    <tr>\n      <th>3</th>\n      <td>1</td>\n      <td>Clear</td>\n      <td>2ND AVE BETWEEN MARION ST AND MADISON ST</td>\n      <td>Other</td>\n      <td>3</td>\n      <td>NaN</td>\n      <td>Dry</td>\n      <td>NaN</td>\n      <td>Block</td>\n      <td>Daylight</td>\n      <td>3</td>\n      <td>Mid-Block (not related to intersection)</td>\n      <td>23</td>\n      <td>Matched</td>\n    </tr>\n    <tr>\n      <th>4</th>\n      <td>2</td>\n      <td>Raining</td>\n      <td>SWIFT AVE S AND SWIFT AV OFF RP</td>\n      <td>Angles</td>\n      <td>2</td>\n      <td>34387.0</td>\n      <td>Wet</td>\n      <td>NaN</td>\n      <td>Intersection</td>\n      <td>Daylight</td>\n      <td>2</td>\n      <td>At Intersection (intersection related)</td>\n      <td>10</td>\n      <td>Matched</td>\n    </tr>\n  </tbody>\n</table>\n</div>",
                        "text/plain": "   SEVERITYCODE   WEATHER                                     LOCATION  \\\n0             2  Overcast                   5TH AVE NE AND NE 103RD ST   \n1             1   Raining   AURORA BR BETWEEN RAYE ST AND BRIDGE WAY N   \n2             1  Overcast  4TH AVE BETWEEN SENECA ST AND UNIVERSITY ST   \n3             1     Clear     2ND AVE BETWEEN MARION ST AND MADISON ST   \n4             2   Raining              SWIFT AVE S AND SWIFT AV OFF RP   \n\n  COLLISIONTYPE  VEHCOUNT   INTKEY ROADCOND SPEEDING      ADDRTYPE  \\\n0        Angles         2  37475.0      Wet      NaN  Intersection   \n1     Sideswipe         2      NaN      Wet      NaN         Block   \n2    Parked Car         3      NaN      Dry      NaN         Block   \n3         Other         3      NaN      Dry      NaN         Block   \n4        Angles         2  34387.0      Wet      NaN  Intersection   \n\n                 LIGHTCOND  PERSONCOUNT  \\\n0                 Daylight            2   \n1  Dark - Street Lights On            2   \n2                 Daylight            4   \n3                 Daylight            3   \n4                 Daylight            2   \n\n                              JUNCTIONTYPE ST_COLCODE   STATUS  \n0   At Intersection (intersection related)         10  Matched  \n1  Mid-Block (not related to intersection)         11  Matched  \n2  Mid-Block (not related to intersection)         32  Matched  \n3  Mid-Block (not related to intersection)         23  Matched  \n4   At Intersection (intersection related)         10  Matched  "
                    },
                    "execution_count": 59,
                    "metadata": {},
                    "output_type": "execute_result"
                }
            ],
            "source": "#FINAL DATASET FOR THE MODEL\ndf_data_2=df_data_1[[\"SEVERITYCODE\", \"WEATHER\", \"LOCATION\",\"COLLISIONTYPE\",\"VEHCOUNT\",\"INTKEY\",\"ROADCOND\",\"SPEEDING\",\"ADDRTYPE\",\"LIGHTCOND\",\"PERSONCOUNT\",\"JUNCTIONTYPE\",\"ST_COLCODE\",\"STATUS\"]]\ndf_data_2.head()   "
        },
        {
            "cell_type": "code",
            "execution_count": 64,
            "metadata": {},
            "outputs": [
                {
                    "data": {
                        "text/plain": "SEVERITYCODE       int64\nWEATHER           object\nLOCATION          object\nCOLLISIONTYPE     object\nVEHCOUNT           int64\nINTKEY           float64\nROADCOND          object\nSPEEDING          object\nADDRTYPE          object\nLIGHTCOND         object\nPERSONCOUNT        int64\nJUNCTIONTYPE      object\nST_COLCODE        object\nSTATUS            object\ndtype: object"
                    },
                    "execution_count": 64,
                    "metadata": {},
                    "output_type": "execute_result"
                }
            ],
            "source": "#COLUMNS TYPE\n\ndf_data_2.dtypes"
        }
    ],
    "metadata": {
        "kernelspec": {
            "display_name": "Python 3.6",
            "language": "python",
            "name": "python3"
        },
        "language_info": {
            "codemirror_mode": {
                "name": "ipython",
                "version": 3
            },
            "file_extension": ".py",
            "mimetype": "text/x-python",
            "name": "python",
            "nbconvert_exporter": "python",
            "pygments_lexer": "ipython3",
            "version": "3.6.9"
        }
    },
    "nbformat": 4,
    "nbformat_minor": 1
}