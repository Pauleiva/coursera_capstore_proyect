{
    "cells": [
        {
            "cell_type": "markdown",
            "metadata": {
                "collapsed": true
            },
            "source": "## Capstone Proyect Notebook\n### Final Project IBM Data Science"
        },
        {
            "cell_type": "code",
            "execution_count": 3,
            "metadata": {},
            "outputs": [],
            "source": "import pandas as pd\nimport numpy as np"
        },
        {
            "cell_type": "code",
            "execution_count": 2,
            "metadata": {},
            "outputs": [
                {
                    "name": "stdout",
                    "output_type": "stream",
                    "text": "Hello Capstone Project Course!\n"
                }
            ],
            "source": "print('Hello Capstone Project Course!')"
        },
        {
            "cell_type": "markdown",
            "metadata": {},
            "source": "### Introduction/Business Problem"
        },
        {
            "cell_type": "markdown",
            "metadata": {},
            "source": "#### In this proyect will build a model to predict the severity of an acciden.The problem that this model seeks to solve is the ignorance that drivers have about the probabilities of an accident on a certain route and its severity, due to different variables such as the weather and road conditions, among others, that makes it impossible for drivers to make decisions in advance, such as driving more carefully or changing routes."
        },
        {
            "cell_type": "markdown",
            "metadata": {},
            "source": "### Data understanding"
        },
        {
            "attachments": {},
            "cell_type": "markdown",
            "metadata": {},
            "source": "#### It was decided  to use the data set called Data-Collisions.csv, which shows data provided for this project from the Seattle Department of Transportation for the period between 1st January 2004 and 20th May 2020. This data set conteint a total of 194,673 collision incidents with 37 attributes . \n\n#### Between the 37 possible columns, for the generation of the model are selected, in the first place target, the SEVERITYCODE fiel. Secondly, the following columns are preliminarily chosen as feactures (the other columns are removed of the data set):  wheather, location, collisiontype, vehcount, roadcond, intkey, roadcond, speeding , addrtype, lightcond, personcount, junctiontype, sdot_colcode,status.\n"
        }
    ],
    "metadata": {
        "kernelspec": {
            "display_name": "Python 3.6",
            "language": "python",
            "name": "python3"
        },
        "language_info": {
            "codemirror_mode": {
                "name": "ipython",
                "version": 3
            },
            "file_extension": ".py",
            "mimetype": "text/x-python",
            "name": "python",
            "nbconvert_exporter": "python",
            "pygments_lexer": "ipython3",
            "version": "3.6.9"
        }
    },
    "nbformat": 4,
    "nbformat_minor": 1
}